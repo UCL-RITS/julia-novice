{
 "cells": [
  {
   "cell_type": "markdown",
   "metadata": {},
   "source": [
    "# Calculating with numbers"
   ]
  },
  {
   "cell_type": "code",
   "execution_count": 1,
   "metadata": {},
   "outputs": [
    {
     "data": {
      "text/plain": [
       "3"
      ]
     },
     "execution_count": 1,
     "metadata": {},
     "output_type": "execute_result"
    }
   ],
   "source": [
    "1 + 2"
   ]
  },
  {
   "cell_type": "code",
   "execution_count": 2,
   "metadata": {},
   "outputs": [
    {
     "data": {
      "text/plain": [
       "5"
      ]
     },
     "execution_count": 2,
     "metadata": {},
     "output_type": "execute_result"
    }
   ],
   "source": [
    "1 + 2 + 5 - 3"
   ]
  },
  {
   "cell_type": "code",
   "execution_count": 3,
   "metadata": {},
   "outputs": [
    {
     "data": {
      "text/plain": [
       "7"
      ]
     },
     "execution_count": 3,
     "metadata": {},
     "output_type": "execute_result"
    }
   ],
   "source": [
    "1 + 2 * 3"
   ]
  },
  {
   "cell_type": "code",
   "execution_count": 4,
   "metadata": {},
   "outputs": [
    {
     "data": {
      "text/plain": [
       "9"
      ]
     },
     "execution_count": 4,
     "metadata": {},
     "output_type": "execute_result"
    }
   ],
   "source": [
    "(1 + 2) * 3"
   ]
  },
  {
   "cell_type": "code",
   "execution_count": 5,
   "metadata": {},
   "outputs": [
    {
     "data": {
      "text/plain": [
       "0.15384615384615385"
      ]
     },
     "execution_count": 5,
     "metadata": {},
     "output_type": "execute_result"
    }
   ],
   "source": [
    "2 / 13"
   ]
  },
  {
   "cell_type": "code",
   "execution_count": 6,
   "metadata": {},
   "outputs": [
    {
     "data": {
      "text/plain": [
       "27"
      ]
     },
     "execution_count": 6,
     "metadata": {},
     "output_type": "execute_result"
    }
   ],
   "source": [
    "3 ^ 3"
   ]
  },
  {
   "cell_type": "code",
   "execution_count": 7,
   "metadata": {
    "scrolled": true
   },
   "outputs": [
    {
     "data": {
      "text/plain": [
       "33.333333333333336"
      ]
     },
     "execution_count": 7,
     "metadata": {},
     "output_type": "execute_result"
    }
   ],
   "source": [
    "1e2 / 3"
   ]
  },
  {
   "cell_type": "code",
   "execution_count": 8,
   "metadata": {},
   "outputs": [
    {
     "data": {
      "text/plain": [
       "0"
      ]
     },
     "execution_count": 8,
     "metadata": {},
     "output_type": "execute_result"
    }
   ],
   "source": [
    "64 ^ 20"
   ]
  },
  {
   "cell_type": "code",
   "execution_count": 9,
   "metadata": {},
   "outputs": [
    {
     "data": {
      "text/plain": [
       "1.329227995784916e36"
      ]
     },
     "execution_count": 9,
     "metadata": {},
     "output_type": "execute_result"
    }
   ],
   "source": [
    "64. ^ 20."
   ]
  },
  {
   "cell_type": "markdown",
   "metadata": {},
   "source": [
    "# Variables"
   ]
  },
  {
   "cell_type": "code",
   "execution_count": 10,
   "metadata": {},
   "outputs": [
    {
     "data": {
      "text/plain": [
       "25"
      ]
     },
     "execution_count": 10,
     "metadata": {},
     "output_type": "execute_result"
    }
   ],
   "source": [
    "age = 25"
   ]
  },
  {
   "cell_type": "code",
   "execution_count": 11,
   "metadata": {},
   "outputs": [
    {
     "data": {
      "text/plain": [
       "\"Bob\""
      ]
     },
     "execution_count": 11,
     "metadata": {},
     "output_type": "execute_result"
    }
   ],
   "source": [
    "name = \"Bob\""
   ]
  },
  {
   "cell_type": "code",
   "execution_count": 12,
   "metadata": {},
   "outputs": [
    {
     "data": {
      "text/plain": [
       "25"
      ]
     },
     "execution_count": 12,
     "metadata": {},
     "output_type": "execute_result"
    }
   ],
   "source": [
    "age"
   ]
  },
  {
   "cell_type": "code",
   "execution_count": 13,
   "metadata": {},
   "outputs": [],
   "source": [
    "age = 25;"
   ]
  },
  {
   "cell_type": "code",
   "execution_count": 14,
   "metadata": {},
   "outputs": [
    {
     "name": "stdout",
     "output_type": "stream",
     "text": [
      "Bob25\n"
     ]
    }
   ],
   "source": [
    "println(name, age)"
   ]
  },
  {
   "cell_type": "code",
   "execution_count": 15,
   "metadata": {},
   "outputs": [
    {
     "data": {
      "text/plain": [
       "\"I like burritos\""
      ]
     },
     "execution_count": 15,
     "metadata": {},
     "output_type": "execute_result"
    }
   ],
   "source": [
    "\"I like\" * \" burritos\""
   ]
  },
  {
   "cell_type": "code",
   "execution_count": 16,
   "metadata": {},
   "outputs": [
    {
     "name": "stdout",
     "output_type": "stream",
     "text": [
      "Bob is 25\n"
     ]
    }
   ],
   "source": [
    "println(name*\" is \", age)"
   ]
  },
  {
   "cell_type": "markdown",
   "metadata": {},
   "source": [
    "## Calculating with variables"
   ]
  },
  {
   "cell_type": "code",
   "execution_count": 17,
   "metadata": {},
   "outputs": [
    {
     "data": {
      "text/plain": [
       "28"
      ]
     },
     "execution_count": 17,
     "metadata": {},
     "output_type": "execute_result"
    }
   ],
   "source": [
    "age + 3"
   ]
  },
  {
   "cell_type": "code",
   "execution_count": 18,
   "metadata": {},
   "outputs": [
    {
     "data": {
      "text/plain": [
       "300"
      ]
     },
     "execution_count": 18,
     "metadata": {},
     "output_type": "execute_result"
    }
   ],
   "source": [
    "age_in_months = age * 12"
   ]
  },
  {
   "cell_type": "code",
   "execution_count": 19,
   "metadata": {},
   "outputs": [
    {
     "name": "stdout",
     "output_type": "stream",
     "text": [
      "In 10 years Bob will be 35\n"
     ]
    }
   ],
   "source": [
    "println(\"In 10 years \"*name*\" will be \", age + 10)"
   ]
  },
  {
   "cell_type": "code",
   "execution_count": 20,
   "metadata": {},
   "outputs": [
    {
     "data": {
      "text/plain": [
       "28"
      ]
     },
     "execution_count": 20,
     "metadata": {},
     "output_type": "execute_result"
    }
   ],
   "source": [
    "age = age + 3"
   ]
  },
  {
   "cell_type": "code",
   "execution_count": 21,
   "metadata": {},
   "outputs": [
    {
     "name": "stdout",
     "output_type": "stream",
     "text": [
      "In 10 years Bob will be 38\n"
     ]
    }
   ],
   "source": [
    "println(\"In 10 years \"*name*\" will be \", age + 10)"
   ]
  },
  {
   "cell_type": "code",
   "execution_count": 22,
   "metadata": {},
   "outputs": [
    {
     "data": {
      "text/plain": [
       "-9"
      ]
     },
     "execution_count": 22,
     "metadata": {},
     "output_type": "execute_result"
    }
   ],
   "source": [
    "x = 3\n",
    "3x - 2x^2"
   ]
  },
  {
   "cell_type": "code",
   "execution_count": 23,
   "metadata": {},
   "outputs": [
    {
     "name": "stdout",
     "output_type": "stream",
     "text": [
      "5\n"
     ]
    }
   ],
   "source": [
    "x = 3\n",
    "x += 2\n",
    "println(x)"
   ]
  },
  {
   "cell_type": "markdown",
   "metadata": {},
   "source": [
    "# Excercises"
   ]
  },
  {
   "cell_type": "code",
   "execution_count": null,
   "metadata": {},
   "outputs": [],
   "source": []
  },
  {
   "cell_type": "markdown",
   "metadata": {},
   "source": [
    "# REPL modes"
   ]
  },
  {
   "cell_type": "markdown",
   "metadata": {},
   "source": [
    "## Help mode `?`"
   ]
  },
  {
   "cell_type": "code",
   "execution_count": 24,
   "metadata": {},
   "outputs": [
    {
     "name": "stdout",
     "output_type": "stream",
     "text": [
      "search: \u001b[0m\u001b[1m*\u001b[22m\n",
      "\n"
     ]
    },
    {
     "data": {
      "text/latex": [
       "\\begin{verbatim}\n",
       "*(s::Union{AbstractString, AbstractChar}, t::Union{AbstractString, AbstractChar}...) -> AbstractString\n",
       "\\end{verbatim}\n",
       "Concatenate strings and/or characters, producing a \\href{@ref}{\\texttt{String}}. This is equivalent to calling the \\href{@ref}{\\texttt{string}} function on the arguments. Concatenation of built-in string types always produces a value of type \\texttt{String} but other string types may choose to return a string of a different type as appropriate.\n",
       "\n",
       "\\section{Examples}\n",
       "\\begin{verbatim}\n",
       "julia> \"Hello \" * \"world\"\n",
       "\"Hello world\"\n",
       "\n",
       "julia> 'j' * \"ulia\"\n",
       "\"julia\"\n",
       "\\end{verbatim}\n",
       "\\rule{\\textwidth}{1pt}\n",
       "\\begin{verbatim}\n",
       "*(s::Regex, t::Union{Regex,AbstractString,AbstractChar}) -> Regex\n",
       "*(s::Union{Regex,AbstractString,AbstractChar}, t::Regex) -> Regex\n",
       "\\end{verbatim}\n",
       "Concatenate regexes, strings and/or characters, producing a \\href{@ref}{\\texttt{Regex}}. String and character arguments must be matched exactly in the resulting regex, meaning that the contained characters are devoid of any special meaning (they are quoted with \"{\\textbackslash}Q\" and \"{\\textbackslash}E\").\n",
       "\n",
       "\\begin{quote}\n",
       "\\textbf{compat}\n",
       "\n",
       "Julia 1.3\n",
       "\n",
       "This method requires at least Julia 1.3.\n",
       "\n",
       "\\end{quote}\n",
       "\\section{Examples}\n",
       "\\begin{verbatim}\n",
       "julia> match(r\"Hello|Good bye\" * ' ' * \"world\", \"Hello world\")\n",
       "RegexMatch(\"Hello world\")\n",
       "\n",
       "julia> r = r\"a|b\" * \"c|d\"\n",
       "r\"(?:a|b)\\Qc|d\\E\"\n",
       "\n",
       "julia> match(r, \"ac\") == nothing\n",
       "true\n",
       "\n",
       "julia> match(r, \"ac|d\")\n",
       "RegexMatch(\"ac|d\")\n",
       "\\end{verbatim}\n",
       "\\rule{\\textwidth}{1pt}\n",
       "\\begin{verbatim}\n",
       "*(x, y...)\n",
       "\\end{verbatim}\n",
       "Multiplication operator. \\texttt{x*y*z*...} calls this function with all arguments, i.e. \\texttt{*(x, y, z, ...)}.\n",
       "\n",
       "\\section{Examples}\n",
       "\\begin{verbatim}\n",
       "julia> 2 * 7 * 8\n",
       "112\n",
       "\n",
       "julia> *(2, 7, 8)\n",
       "112\n",
       "\\end{verbatim}\n",
       "\\rule{\\textwidth}{1pt}\n",
       "\\begin{verbatim}\n",
       "*(A::AbstractMatrix, B::AbstractMatrix)\n",
       "\\end{verbatim}\n",
       "Matrix multiplication.\n",
       "\n",
       "\\section{Examples}\n",
       "\\begin{verbatim}\n",
       "julia> [1 1; 0 1] * [1 0; 1 1]\n",
       "2×2 Array{Int64,2}:\n",
       " 2  1\n",
       " 1  1\n",
       "\\end{verbatim}\n"
      ],
      "text/markdown": [
       "```\n",
       "*(s::Union{AbstractString, AbstractChar}, t::Union{AbstractString, AbstractChar}...) -> AbstractString\n",
       "```\n",
       "\n",
       "Concatenate strings and/or characters, producing a [`String`](@ref). This is equivalent to calling the [`string`](@ref) function on the arguments. Concatenation of built-in string types always produces a value of type `String` but other string types may choose to return a string of a different type as appropriate.\n",
       "\n",
       "# Examples\n",
       "\n",
       "```jldoctest\n",
       "julia> \"Hello \" * \"world\"\n",
       "\"Hello world\"\n",
       "\n",
       "julia> 'j' * \"ulia\"\n",
       "\"julia\"\n",
       "```\n",
       "\n",
       "---\n",
       "\n",
       "```\n",
       "*(s::Regex, t::Union{Regex,AbstractString,AbstractChar}) -> Regex\n",
       "*(s::Union{Regex,AbstractString,AbstractChar}, t::Regex) -> Regex\n",
       "```\n",
       "\n",
       "Concatenate regexes, strings and/or characters, producing a [`Regex`](@ref). String and character arguments must be matched exactly in the resulting regex, meaning that the contained characters are devoid of any special meaning (they are quoted with \"\\Q\" and \"\\E\").\n",
       "\n",
       "!!! compat \"Julia 1.3\"\n",
       "    This method requires at least Julia 1.3.\n",
       "\n",
       "\n",
       "# Examples\n",
       "\n",
       "```jldoctest\n",
       "julia> match(r\"Hello|Good bye\" * ' ' * \"world\", \"Hello world\")\n",
       "RegexMatch(\"Hello world\")\n",
       "\n",
       "julia> r = r\"a|b\" * \"c|d\"\n",
       "r\"(?:a|b)\\Qc|d\\E\"\n",
       "\n",
       "julia> match(r, \"ac\") == nothing\n",
       "true\n",
       "\n",
       "julia> match(r, \"ac|d\")\n",
       "RegexMatch(\"ac|d\")\n",
       "```\n",
       "\n",
       "---\n",
       "\n",
       "```\n",
       "*(x, y...)\n",
       "```\n",
       "\n",
       "Multiplication operator. `x*y*z*...` calls this function with all arguments, i.e. `*(x, y, z, ...)`.\n",
       "\n",
       "# Examples\n",
       "\n",
       "```jldoctest\n",
       "julia> 2 * 7 * 8\n",
       "112\n",
       "\n",
       "julia> *(2, 7, 8)\n",
       "112\n",
       "```\n",
       "\n",
       "---\n",
       "\n",
       "```\n",
       "*(A::AbstractMatrix, B::AbstractMatrix)\n",
       "```\n",
       "\n",
       "Matrix multiplication.\n",
       "\n",
       "# Examples\n",
       "\n",
       "```jldoctest\n",
       "julia> [1 1; 0 1] * [1 0; 1 1]\n",
       "2×2 Array{Int64,2}:\n",
       " 2  1\n",
       " 1  1\n",
       "```\n"
      ],
      "text/plain": [
       "\u001b[36m  *(s::Union{AbstractString, AbstractChar}, t::Union{AbstractString, AbstractChar}...) -> AbstractString\u001b[39m\n",
       "\n",
       "  Concatenate strings and/or characters, producing a \u001b[36mString\u001b[39m. This is\n",
       "  equivalent to calling the \u001b[36mstring\u001b[39m function on the arguments. Concatenation of\n",
       "  built-in string types always produces a value of type \u001b[36mString\u001b[39m but other\n",
       "  string types may choose to return a string of a different type as\n",
       "  appropriate.\n",
       "\n",
       "\u001b[1m  Examples\u001b[22m\n",
       "\u001b[1m  ≡≡≡≡≡≡≡≡≡≡\u001b[22m\n",
       "\n",
       "\u001b[36m  julia> \"Hello \" * \"world\"\u001b[39m\n",
       "\u001b[36m  \"Hello world\"\u001b[39m\n",
       "\u001b[36m  \u001b[39m\n",
       "\u001b[36m  julia> 'j' * \"ulia\"\u001b[39m\n",
       "\u001b[36m  \"julia\"\u001b[39m\n",
       "\n",
       "  ────────────────────────────────────────────────────────────────────────────\n",
       "\n",
       "\u001b[36m  *(s::Regex, t::Union{Regex,AbstractString,AbstractChar}) -> Regex\u001b[39m\n",
       "\u001b[36m  *(s::Union{Regex,AbstractString,AbstractChar}, t::Regex) -> Regex\u001b[39m\n",
       "\n",
       "  Concatenate regexes, strings and/or characters, producing a \u001b[36mRegex\u001b[39m. String\n",
       "  and character arguments must be matched exactly in the resulting regex,\n",
       "  meaning that the contained characters are devoid of any special meaning\n",
       "  (they are quoted with \"\\Q\" and \"\\E\").\n",
       "\n",
       "\u001b[39m\u001b[1m  │ \u001b[22m\u001b[39m\u001b[1mJulia 1.3\u001b[22m\n",
       "\u001b[39m\u001b[1m  │\u001b[22m\n",
       "\u001b[39m\u001b[1m  │\u001b[22m  This method requires at least Julia 1.3.\n",
       "\n",
       "\u001b[1m  Examples\u001b[22m\n",
       "\u001b[1m  ≡≡≡≡≡≡≡≡≡≡\u001b[22m\n",
       "\n",
       "\u001b[36m  julia> match(r\"Hello|Good bye\" * ' ' * \"world\", \"Hello world\")\u001b[39m\n",
       "\u001b[36m  RegexMatch(\"Hello world\")\u001b[39m\n",
       "\u001b[36m  \u001b[39m\n",
       "\u001b[36m  julia> r = r\"a|b\" * \"c|d\"\u001b[39m\n",
       "\u001b[36m  r\"(?:a|b)\\Qc|d\\E\"\u001b[39m\n",
       "\u001b[36m  \u001b[39m\n",
       "\u001b[36m  julia> match(r, \"ac\") == nothing\u001b[39m\n",
       "\u001b[36m  true\u001b[39m\n",
       "\u001b[36m  \u001b[39m\n",
       "\u001b[36m  julia> match(r, \"ac|d\")\u001b[39m\n",
       "\u001b[36m  RegexMatch(\"ac|d\")\u001b[39m\n",
       "\n",
       "  ────────────────────────────────────────────────────────────────────────────\n",
       "\n",
       "\u001b[36m  *(x, y...)\u001b[39m\n",
       "\n",
       "  Multiplication operator. \u001b[36mx*y*z*...\u001b[39m calls this function with all arguments,\n",
       "  i.e. \u001b[36m*(x, y, z, ...)\u001b[39m.\n",
       "\n",
       "\u001b[1m  Examples\u001b[22m\n",
       "\u001b[1m  ≡≡≡≡≡≡≡≡≡≡\u001b[22m\n",
       "\n",
       "\u001b[36m  julia> 2 * 7 * 8\u001b[39m\n",
       "\u001b[36m  112\u001b[39m\n",
       "\u001b[36m  \u001b[39m\n",
       "\u001b[36m  julia> *(2, 7, 8)\u001b[39m\n",
       "\u001b[36m  112\u001b[39m\n",
       "\n",
       "  ────────────────────────────────────────────────────────────────────────────\n",
       "\n",
       "\u001b[36m  *(A::AbstractMatrix, B::AbstractMatrix)\u001b[39m\n",
       "\n",
       "  Matrix multiplication.\n",
       "\n",
       "\u001b[1m  Examples\u001b[22m\n",
       "\u001b[1m  ≡≡≡≡≡≡≡≡≡≡\u001b[22m\n",
       "\n",
       "\u001b[36m  julia> [1 1; 0 1] * [1 0; 1 1]\u001b[39m\n",
       "\u001b[36m  2×2 Array{Int64,2}:\u001b[39m\n",
       "\u001b[36m   2  1\u001b[39m\n",
       "\u001b[36m   1  1\u001b[39m"
      ]
     },
     "execution_count": 24,
     "metadata": {},
     "output_type": "execute_result"
    }
   ],
   "source": [
    "?*"
   ]
  },
  {
   "cell_type": "markdown",
   "metadata": {},
   "source": [
    "## Package mode `[`"
   ]
  },
  {
   "cell_type": "code",
   "execution_count": 25,
   "metadata": {
    "scrolled": false
   },
   "outputs": [
    {
     "name": "stdout",
     "output_type": "stream",
     "text": [
      "\u001b[32m\u001b[1mStatus\u001b[22m\u001b[39m `~/.julia/environments/v1.5/Project.toml`\n",
      " \u001b[90m [6e4b80f9] \u001b[39m\u001b[37mBenchmarkTools v0.5.0\u001b[39m\n",
      " \u001b[90m [5ae59095] \u001b[39m\u001b[37mColors v0.12.6\u001b[39m\n",
      " \u001b[90m [8f4d0f93] \u001b[39m\u001b[37mConda v1.5.0\u001b[39m\n",
      " \u001b[90m [864edb3b] \u001b[39m\u001b[37mDataStructures v0.18.9\u001b[39m\n",
      " \u001b[90m [31c24e10] \u001b[39m\u001b[37mDistributions v0.24.15\u001b[39m\n",
      " \u001b[90m [7876af07] \u001b[39m\u001b[37mExample v0.5.3\u001b[39m\n",
      " \u001b[90m [7a1cc6ca] \u001b[39m\u001b[37mFFTW v1.3.2\u001b[39m\n",
      " \u001b[90m [e4b2fa32] \u001b[39m\u001b[37mGaussianRandomFields v2.1.2\u001b[39m\n",
      " \u001b[90m [f67ccb44] \u001b[39m\u001b[37mHDF5 v0.15.4\u001b[39m\n",
      " \u001b[90m [7073ff75] \u001b[39m\u001b[37mIJulia v1.23.2\u001b[39m\n",
      " \u001b[90m [da04e1cc] \u001b[39m\u001b[37mMPI v0.16.1\u001b[39m\n",
      " \u001b[90m [d96e819e] \u001b[39m\u001b[37mParameters v0.12.2\u001b[39m\n",
      " \u001b[90m [61cd1fb4] \u001b[39m\u001b[37mParticleDA v0.1.0 `~/.julia/dev/ParticleDA`\u001b[39m\n",
      " \u001b[90m [32113eaa] \u001b[39m\u001b[37mPkgBenchmark v0.2.10\u001b[39m\n",
      " \u001b[90m [91a5bcdd] \u001b[39m\u001b[37mPlots v1.10.6\u001b[39m\n",
      " \u001b[90m [c3e4b0f8] \u001b[39m\u001b[37mPluto v0.12.21\u001b[39m\n",
      " \u001b[90m [c46f51b8] \u001b[39m\u001b[37mProfileView v0.6.9\u001b[39m\n",
      " \u001b[90m [438e738f] \u001b[39m\u001b[37mPyCall v1.92.2\u001b[39m\n",
      " \u001b[90m [d330b81b] \u001b[39m\u001b[37mPyPlot v2.9.0\u001b[39m\n",
      " \u001b[90m [295af30f] \u001b[39m\u001b[37mRevise v3.1.14\u001b[39m\n",
      " \u001b[90m [860ef19b] \u001b[39m\u001b[37mStableRNGs v1.0.0\u001b[39m\n",
      " \u001b[90m [4c63d2b9] \u001b[39m\u001b[37mStatsFuns v0.9.6\u001b[39m\n",
      " \u001b[90m [fd094767] \u001b[39m\u001b[37mSuppressor v0.2.0\u001b[39m\n",
      " \u001b[90m [a759f4b9] \u001b[39m\u001b[37mTimerOutputs v0.5.8\u001b[39m\n",
      " \u001b[90m [b8865327] \u001b[39m\u001b[37mUnicodePlots v1.3.0\u001b[39m\n",
      " \u001b[90m [ddb6d928] \u001b[39m\u001b[37mYAML v0.4.6\u001b[39m\n",
      " \u001b[90m [9fa8497b] \u001b[39m\u001b[37mFuture\u001b[39m\n",
      " \u001b[90m [10745b16] \u001b[39m\u001b[37mStatistics\u001b[39m\n"
     ]
    }
   ],
   "source": [
    "]status"
   ]
  },
  {
   "cell_type": "code",
   "execution_count": 26,
   "metadata": {},
   "outputs": [
    {
     "name": "stderr",
     "output_type": "stream",
     "text": [
      "\u001b[32m\u001b[1m   Updating\u001b[22m\u001b[39m registry at `~/.julia/registries/General`\n"
     ]
    },
    {
     "name": "stdout",
     "output_type": "stream",
     "text": [
      "\u001b[?25l    "
     ]
    },
    {
     "name": "stderr",
     "output_type": "stream",
     "text": [
      "\u001b[32m\u001b[1m   Updating\u001b[22m\u001b[39m git-repo `https://github.com/JuliaRegistries/General.git`\n"
     ]
    },
    {
     "name": "stdout",
     "output_type": "stream",
     "text": [
      "\u001b[36m\u001b[1mFetching:\u001b[22m\u001b[39m [>                                        ]  0.0 %\r",
      "    \u001b[36m\u001b[1mFetching:\u001b[22m\u001b[39m [======>                                  ]  14.3 %\r",
      "    \u001b[36m\u001b[1mFetching:\u001b[22m\u001b[39m [============>                            ]  28.6 %\r",
      "    \u001b[36m\u001b[1mFetching:\u001b[22m\u001b[39m [==================>                      ]  42.9 %\r",
      "    \u001b[36m\u001b[1mFetching:\u001b[22m\u001b[39m [=======================>                 ]  57.1 %\r",
      "    \u001b[36m\u001b[1mFetching:\u001b[22m\u001b[39m [=============================>           ]  71.4 %\r",
      "    \u001b[36m\u001b[1mFetching:\u001b[22m\u001b[39m [===================================>     ]  85.7 %\r",
      "    \u001b[36m\u001b[1mFetching:\u001b[22m\u001b[39m [========================================>]  100.0 %\r",
      "\u001b[2K\u001b[?25h"
     ]
    },
    {
     "name": "stderr",
     "output_type": "stream",
     "text": [
      "\u001b[32m\u001b[1m  Resolving\u001b[22m\u001b[39m package versions...\n",
      "\u001b[32m\u001b[1mNo Changes\u001b[22m\u001b[39m to `~/.julia/environments/v1.5/Project.toml`\n",
      "\u001b[32m\u001b[1mNo Changes\u001b[22m\u001b[39m to `~/.julia/environments/v1.5/Manifest.toml`\n"
     ]
    }
   ],
   "source": [
    "]add Statistics"
   ]
  },
  {
   "cell_type": "markdown",
   "metadata": {},
   "source": [
    "## Shell mode `;`"
   ]
  },
  {
   "cell_type": "code",
   "execution_count": 27,
   "metadata": {},
   "outputs": [
    {
     "name": "stdout",
     "output_type": "stream",
     "text": [
      "total 144\n",
      "drwxr-xr-x  14 tkoskela  staff   448B 29 Mar 15:40 ./\n",
      "drwxr-xr-x  28 tkoskela  staff   896B 29 Mar 15:30 ../\n",
      "-rw-r--r--   1 tkoskela  staff     0B 29 Mar 13:05 .gitkeep\n",
      "drwxr-xr-x   4 tkoskela  staff   128B 29 Mar 15:30 .ipynb_checkpoints/\n",
      "-rw-r--r--   1 tkoskela  staff   241B 29 Mar 13:05 01-introduction.md\n",
      "-rw-r--r--   1 tkoskela  staff   791B 29 Mar 15:30 02-REPL.md\n",
      "-rw-r--r--   1 tkoskela  staff   613B 29 Mar 15:30 03-types.md\n",
      "-rw-r--r--   1 tkoskela  staff   354B 29 Mar 15:30 04-dispatch.md\n",
      "-rw-r--r--   1 tkoskela  staff   404B 29 Mar 13:05 05-compilation.md\n",
      "-rw-r--r--   1 tkoskela  staff   502B 29 Mar 13:05 06-modules.md\n",
      "-rw-r--r--   1 tkoskela  staff   283B 29 Mar 13:05 07-features.md\n",
      "-rw-r--r--   1 tkoskela  staff   452B 29 Mar 13:05 08-packages.md\n",
      "-rw-r--r--   1 tkoskela  staff    35K 29 Mar 15:40 Episode-02.ipynb\n",
      "-rw-r--r--   1 tkoskela  staff    72B 29 Mar 15:30 Untitled.ipynb\n"
     ]
    }
   ],
   "source": [
    ";ls -aFlh"
   ]
  },
  {
   "cell_type": "markdown",
   "metadata": {},
   "source": [
    "# Unicode characters"
   ]
  },
  {
   "cell_type": "code",
   "execution_count": 28,
   "metadata": {},
   "outputs": [
    {
     "data": {
      "text/plain": [
       "4"
      ]
     },
     "execution_count": 28,
     "metadata": {},
     "output_type": "execute_result"
    }
   ],
   "source": [
    "Λ = 4 # \\Lambda = 4"
   ]
  },
  {
   "cell_type": "code",
   "execution_count": 29,
   "metadata": {},
   "outputs": [
    {
     "data": {
      "text/plain": [
       "-5"
      ]
     },
     "execution_count": 29,
     "metadata": {},
     "output_type": "execute_result"
    }
   ],
   "source": [
    "α = -5 # \\alpha = -4"
   ]
  },
  {
   "cell_type": "code",
   "execution_count": 30,
   "metadata": {},
   "outputs": [
    {
     "data": {
      "text/plain": [
       "-8.0"
      ]
     },
     "execution_count": 30,
     "metadata": {},
     "output_type": "execute_result"
    }
   ],
   "source": [
    "2α + √Λ # \\alpha + \\sqrt\\Lambda"
   ]
  },
  {
   "cell_type": "code",
   "execution_count": 31,
   "metadata": {},
   "outputs": [
    {
     "data": {
      "text/plain": [
       "π = 3.1415926535897..."
      ]
     },
     "execution_count": 31,
     "metadata": {},
     "output_type": "execute_result"
    }
   ],
   "source": [
    "pi"
   ]
  },
  {
   "cell_type": "code",
   "execution_count": 32,
   "metadata": {},
   "outputs": [
    {
     "data": {
      "text/plain": [
       "π = 3.1415926535897..."
      ]
     },
     "execution_count": 32,
     "metadata": {},
     "output_type": "execute_result"
    }
   ],
   "source": [
    "π"
   ]
  },
  {
   "cell_type": "markdown",
   "metadata": {},
   "source": [
    "# Arrays"
   ]
  },
  {
   "cell_type": "code",
   "execution_count": 33,
   "metadata": {},
   "outputs": [
    {
     "data": {
      "text/plain": [
       "3-element Array{Int64,1}:\n",
       " 1\n",
       " 2\n",
       " 3"
      ]
     },
     "execution_count": 33,
     "metadata": {},
     "output_type": "execute_result"
    }
   ],
   "source": [
    "[1, 2, 3]"
   ]
  },
  {
   "cell_type": "code",
   "execution_count": 34,
   "metadata": {},
   "outputs": [
    {
     "data": {
      "text/plain": [
       "3-element Array{Int64,1}:\n",
       " 1\n",
       " 2\n",
       " 3"
      ]
     },
     "execution_count": 34,
     "metadata": {},
     "output_type": "execute_result"
    }
   ],
   "source": [
    "my_array = [1, 2, 3]"
   ]
  },
  {
   "cell_type": "code",
   "execution_count": 35,
   "metadata": {},
   "outputs": [
    {
     "data": {
      "text/plain": [
       "2"
      ]
     },
     "execution_count": 35,
     "metadata": {},
     "output_type": "execute_result"
    }
   ],
   "source": [
    "my_array[2]"
   ]
  },
  {
   "cell_type": "code",
   "execution_count": 36,
   "metadata": {
    "scrolled": true
   },
   "outputs": [
    {
     "data": {
      "text/plain": [
       "3-element Array{Int64,1}:\n",
       " 3\n",
       " 6\n",
       " 9"
      ]
     },
     "execution_count": 36,
     "metadata": {},
     "output_type": "execute_result"
    }
   ],
   "source": [
    "my_array * 3"
   ]
  },
  {
   "cell_type": "code",
   "execution_count": 37,
   "metadata": {},
   "outputs": [
    {
     "data": {
      "text/plain": [
       "-1"
      ]
     },
     "execution_count": 37,
     "metadata": {},
     "output_type": "execute_result"
    }
   ],
   "source": [
    "my_array[2] - my_array[3]"
   ]
  },
  {
   "cell_type": "code",
   "execution_count": 38,
   "metadata": {},
   "outputs": [
    {
     "ename": "LoadError",
     "evalue": "\u001b[91mMethodError: no method matching -(::Array{Int64,1}, ::Int64)\u001b[39m\n\u001b[91mFor element-wise subtraction, use broadcasting with dot syntax: array .- scalar\u001b[39m\n\u001b[91m\u001b[0mClosest candidates are:\u001b[39m\n\u001b[91m\u001b[0m  -(\u001b[91m::Complex{Bool}\u001b[39m, ::Real) at complex.jl:307\u001b[39m\n\u001b[91m\u001b[0m  -(\u001b[91m::Missing\u001b[39m, ::Number) at missing.jl:115\u001b[39m\n\u001b[91m\u001b[0m  -(\u001b[91m::Base.CoreLogging.LogLevel\u001b[39m, ::Integer) at logging.jl:117\u001b[39m\n\u001b[91m\u001b[0m  ...\u001b[39m",
     "output_type": "error",
     "traceback": [
      "\u001b[91mMethodError: no method matching -(::Array{Int64,1}, ::Int64)\u001b[39m\n\u001b[91mFor element-wise subtraction, use broadcasting with dot syntax: array .- scalar\u001b[39m\n\u001b[91m\u001b[0mClosest candidates are:\u001b[39m\n\u001b[91m\u001b[0m  -(\u001b[91m::Complex{Bool}\u001b[39m, ::Real) at complex.jl:307\u001b[39m\n\u001b[91m\u001b[0m  -(\u001b[91m::Missing\u001b[39m, ::Number) at missing.jl:115\u001b[39m\n\u001b[91m\u001b[0m  -(\u001b[91m::Base.CoreLogging.LogLevel\u001b[39m, ::Integer) at logging.jl:117\u001b[39m\n\u001b[91m\u001b[0m  ...\u001b[39m",
      "",
      "Stacktrace:",
      " [1] top-level scope at In[38]:1",
      " [2] include_string(::Function, ::Module, ::String, ::String) at ./loading.jl:1091"
     ]
    }
   ],
   "source": [
    "my_array - 2"
   ]
  },
  {
   "cell_type": "code",
   "execution_count": 39,
   "metadata": {},
   "outputs": [
    {
     "data": {
      "text/plain": [
       "3-element Array{Int64,1}:\n",
       " -1\n",
       "  0\n",
       "  1"
      ]
     },
     "execution_count": 39,
     "metadata": {},
     "output_type": "execute_result"
    }
   ],
   "source": [
    "my_array .- 2"
   ]
  },
  {
   "cell_type": "code",
   "execution_count": 40,
   "metadata": {},
   "outputs": [
    {
     "data": {
      "text/plain": [
       "2×3 Array{Int64,2}:\n",
       " 1  2  3\n",
       " 4  5  6"
      ]
     },
     "execution_count": 40,
     "metadata": {},
     "output_type": "execute_result"
    }
   ],
   "source": [
    "my_2d_array = [1 2 3; 4 5 6]"
   ]
  },
  {
   "cell_type": "code",
   "execution_count": 41,
   "metadata": {},
   "outputs": [
    {
     "data": {
      "text/plain": [
       "2-element Array{Int64,1}:\n",
       " 3\n",
       " 6"
      ]
     },
     "execution_count": 41,
     "metadata": {},
     "output_type": "execute_result"
    }
   ],
   "source": [
    "my_2d_array[1:2,3]"
   ]
  },
  {
   "cell_type": "code",
   "execution_count": 42,
   "metadata": {},
   "outputs": [
    {
     "name": "stdout",
     "output_type": "stream",
     "text": [
      "search: \u001b[0m\u001b[1mf\u001b[22m\u001b[0m\u001b[1mi\u001b[22m\u001b[0m\u001b[1ml\u001b[22m\u001b[0m\u001b[1ml\u001b[22m \u001b[0m\u001b[1mf\u001b[22m\u001b[0m\u001b[1mi\u001b[22m\u001b[0m\u001b[1ml\u001b[22m\u001b[0m\u001b[1ml\u001b[22m! \u001b[0m\u001b[1mf\u001b[22m\u001b[0m\u001b[1mi\u001b[22mna\u001b[0m\u001b[1ml\u001b[22m\u001b[0m\u001b[1ml\u001b[22my \u001b[0m\u001b[1mf\u001b[22m\u001b[0m\u001b[1mi\u001b[22mnda\u001b[0m\u001b[1ml\u001b[22m\u001b[0m\u001b[1ml\u001b[22m \u001b[0m\u001b[1mf\u001b[22m\u001b[0m\u001b[1mi\u001b[22m\u001b[0m\u001b[1ml\u001b[22mter \u001b[0m\u001b[1mf\u001b[22m\u001b[0m\u001b[1mi\u001b[22m\u001b[0m\u001b[1ml\u001b[22mter! \u001b[0m\u001b[1mf\u001b[22m\u001b[0m\u001b[1mi\u001b[22m\u001b[0m\u001b[1ml\u001b[22mesize \u001b[0m\u001b[1mf\u001b[22m\u001b[0m\u001b[1mi\u001b[22m\u001b[0m\u001b[1ml\u001b[22memode is\u001b[0m\u001b[1mf\u001b[22m\u001b[0m\u001b[1mi\u001b[22m\u001b[0m\u001b[1ml\u001b[22me\n",
      "\n"
     ]
    },
    {
     "data": {
      "text/latex": [
       "\\begin{verbatim}\n",
       "fill(x, dims::Tuple)\n",
       "fill(x, dims...)\n",
       "\\end{verbatim}\n",
       "Create an array filled with the value \\texttt{x}. For example, \\texttt{fill(1.0, (5,5))} returns a 5×5 array of floats, with each element initialized to \\texttt{1.0}.\n",
       "\n",
       "\\texttt{dims} may be specified as either a tuple or a sequence of arguments. For example, the common idiom \\texttt{fill(x)} creates a zero-dimensional array containing the single value \\texttt{x}.\n",
       "\n",
       "\\section{Examples}\n",
       "\\begin{verbatim}\n",
       "julia> fill(1.0, (2,3))\n",
       "2×3 Array{Float64,2}:\n",
       " 1.0  1.0  1.0\n",
       " 1.0  1.0  1.0\n",
       "\n",
       "julia> fill(42)\n",
       "0-dimensional Array{Int64,0}:\n",
       "42\n",
       "\\end{verbatim}\n",
       "If \\texttt{x} is an object reference, all elements will refer to the same object:\n",
       "\n",
       "\\begin{verbatim}\n",
       "julia> A = fill(zeros(2), 2);\n",
       "\n",
       "julia> A[1][1] = 42; # modifies both A[1][1] and A[2][1]\n",
       "\n",
       "julia> A\n",
       "2-element Array{Array{Float64,1},1}:\n",
       " [42.0, 0.0]\n",
       " [42.0, 0.0]\n",
       "\\end{verbatim}\n"
      ],
      "text/markdown": [
       "```\n",
       "fill(x, dims::Tuple)\n",
       "fill(x, dims...)\n",
       "```\n",
       "\n",
       "Create an array filled with the value `x`. For example, `fill(1.0, (5,5))` returns a 5×5 array of floats, with each element initialized to `1.0`.\n",
       "\n",
       "`dims` may be specified as either a tuple or a sequence of arguments. For example, the common idiom `fill(x)` creates a zero-dimensional array containing the single value `x`.\n",
       "\n",
       "# Examples\n",
       "\n",
       "```jldoctest\n",
       "julia> fill(1.0, (2,3))\n",
       "2×3 Array{Float64,2}:\n",
       " 1.0  1.0  1.0\n",
       " 1.0  1.0  1.0\n",
       "\n",
       "julia> fill(42)\n",
       "0-dimensional Array{Int64,0}:\n",
       "42\n",
       "```\n",
       "\n",
       "If `x` is an object reference, all elements will refer to the same object:\n",
       "\n",
       "```jldoctest\n",
       "julia> A = fill(zeros(2), 2);\n",
       "\n",
       "julia> A[1][1] = 42; # modifies both A[1][1] and A[2][1]\n",
       "\n",
       "julia> A\n",
       "2-element Array{Array{Float64,1},1}:\n",
       " [42.0, 0.0]\n",
       " [42.0, 0.0]\n",
       "```\n"
      ],
      "text/plain": [
       "\u001b[36m  fill(x, dims::Tuple)\u001b[39m\n",
       "\u001b[36m  fill(x, dims...)\u001b[39m\n",
       "\n",
       "  Create an array filled with the value \u001b[36mx\u001b[39m. For example, \u001b[36mfill(1.0, (5,5))\u001b[39m\n",
       "  returns a 5×5 array of floats, with each element initialized to \u001b[36m1.0\u001b[39m.\n",
       "\n",
       "  \u001b[36mdims\u001b[39m may be specified as either a tuple or a sequence of arguments. For\n",
       "  example, the common idiom \u001b[36mfill(x)\u001b[39m creates a zero-dimensional array\n",
       "  containing the single value \u001b[36mx\u001b[39m.\n",
       "\n",
       "\u001b[1m  Examples\u001b[22m\n",
       "\u001b[1m  ≡≡≡≡≡≡≡≡≡≡\u001b[22m\n",
       "\n",
       "\u001b[36m  julia> fill(1.0, (2,3))\u001b[39m\n",
       "\u001b[36m  2×3 Array{Float64,2}:\u001b[39m\n",
       "\u001b[36m   1.0  1.0  1.0\u001b[39m\n",
       "\u001b[36m   1.0  1.0  1.0\u001b[39m\n",
       "\u001b[36m  \u001b[39m\n",
       "\u001b[36m  julia> fill(42)\u001b[39m\n",
       "\u001b[36m  0-dimensional Array{Int64,0}:\u001b[39m\n",
       "\u001b[36m  42\u001b[39m\n",
       "\n",
       "  If \u001b[36mx\u001b[39m is an object reference, all elements will refer to the same object:\n",
       "\n",
       "\u001b[36m  julia> A = fill(zeros(2), 2);\u001b[39m\n",
       "\u001b[36m  \u001b[39m\n",
       "\u001b[36m  julia> A[1][1] = 42; # modifies both A[1][1] and A[2][1]\u001b[39m\n",
       "\u001b[36m  \u001b[39m\n",
       "\u001b[36m  julia> A\u001b[39m\n",
       "\u001b[36m  2-element Array{Array{Float64,1},1}:\u001b[39m\n",
       "\u001b[36m   [42.0, 0.0]\u001b[39m\n",
       "\u001b[36m   [42.0, 0.0]\u001b[39m"
      ]
     },
     "execution_count": 42,
     "metadata": {},
     "output_type": "execute_result"
    }
   ],
   "source": [
    "?fill"
   ]
  },
  {
   "cell_type": "code",
   "execution_count": 43,
   "metadata": {},
   "outputs": [
    {
     "data": {
      "text/plain": [
       "3×3 Array{Float64,2}:\n",
       " 1.5708  1.5708  1.5708\n",
       " 1.5708  1.5708  1.5708\n",
       " 1.5708  1.5708  1.5708"
      ]
     },
     "execution_count": 43,
     "metadata": {},
     "output_type": "execute_result"
    }
   ],
   "source": [
    "fill(pi, (3,3)) ./ 2"
   ]
  },
  {
   "cell_type": "code",
   "execution_count": 46,
   "metadata": {},
   "outputs": [
    {
     "data": {
      "text/plain": [
       "3.5"
      ]
     },
     "execution_count": 46,
     "metadata": {},
     "output_type": "execute_result"
    }
   ],
   "source": [
    "using Statistics\n",
    "Statistics.mean(my_2d_array)"
   ]
  },
  {
   "cell_type": "code",
   "execution_count": null,
   "metadata": {},
   "outputs": [],
   "source": []
  }
 ],
 "metadata": {
  "kernelspec": {
   "display_name": "Julia 1.5.0",
   "language": "julia",
   "name": "julia-1.5"
  },
  "language_info": {
   "file_extension": ".jl",
   "mimetype": "application/julia",
   "name": "julia",
   "version": "1.5.3"
  }
 },
 "nbformat": 4,
 "nbformat_minor": 4
}
